{
  "nbformat": 4,
  "nbformat_minor": 0,
  "metadata": {
    "colab": {
      "provenance": [],
      "authorship_tag": "ABX9TyODMiRHOo0YSCVGUk2TKugU",
      "include_colab_link": true
    },
    "kernelspec": {
      "name": "python3",
      "display_name": "Python 3"
    },
    "language_info": {
      "name": "python"
    }
  },
  "cells": [
    {
      "cell_type": "markdown",
      "metadata": {
        "id": "view-in-github",
        "colab_type": "text"
      },
      "source": [
        "<a href=\"https://colab.research.google.com/github/ratnesh0021/Edunet/blob/main/Steno_detect.ipynb\" target=\"_parent\"><img src=\"https://colab.research.google.com/assets/colab-badge.svg\" alt=\"Open In Colab\"/></a>"
      ]
    },
    {
      "cell_type": "code",
      "execution_count": 1,
      "metadata": {
        "colab": {
          "base_uri": "https://localhost:8080/"
        },
        "id": "UtkQVZ9NKQIH",
        "outputId": "499c4928-1bf3-4e40-f1ab-a52aeaadd012"
      },
      "outputs": [
        {
          "output_type": "stream",
          "name": "stdout",
          "text": [
            "Requirement already satisfied: pillow in /usr/local/lib/python3.11/dist-packages (11.1.0)\n"
          ]
        }
      ],
      "source": [
        "!pip install pillow"
      ]
    },
    {
      "cell_type": "code",
      "source": [
        "from PIL import Image\n",
        "import os\n",
        "\n",
        "image_path = \"/content/encoded_image.png\"\n",
        "\n",
        "if not os.path.exists(image_path):\n",
        "    raise FileNotFoundError(f\"❌ File '{image_path}' not found. Please upload via left-side Files panel in Colab.\")"
      ],
      "metadata": {
        "id": "N9_WmfbfLcJJ"
      },
      "execution_count": 3,
      "outputs": []
    },
    {
      "cell_type": "code",
      "source": [
        "def decode_lsb(image_path):\n",
        "    print(\"\\n🔍 Checking for Steganography...\")\n",
        "\n",
        "    try:\n",
        "        img = Image.open(image_path)\n",
        "        binary_data = \"\"\n",
        "        img = img.convert('RGB')\n",
        "        pixels = list(img.getdata())\n",
        "\n",
        "        for pixel in pixels:\n",
        "            for color in pixel:\n",
        "                binary_data += bin(color)[-1]\n",
        "\n",
        "        eof_marker = '1111111111111110'\n",
        "        end_index = binary_data.find(eof_marker)\n",
        "\n",
        "        if end_index == -1:\n",
        "            print(\"✅ No EOF marker found. Possibly no hidden message.\")\n",
        "            return False, \"\"\n",
        "\n",
        "        message_bits = binary_data[:end_index]\n",
        "\n",
        "        chars = [message_bits[i:i+8] for i in range(0, len(message_bits), 8)]\n",
        "        decoded = \"\"\n",
        "        for ch in chars:\n",
        "            decoded += chr(int(ch, 2))\n",
        "\n",
        "        print(\"🚨 Hidden Message Found:\")\n",
        "        print(f\"\\n📨 \\\"{decoded.strip()}\\\"\")\n",
        "        return True, decoded.strip()\n",
        "\n",
        "    except Exception as e:\n",
        "        print(f\"❌ Error decoding image: {e}\")\n",
        "        return False, \"\""
      ],
      "metadata": {
        "id": "uyDDbTeMLzuN"
      },
      "execution_count": 5,
      "outputs": []
    },
    {
      "cell_type": "code",
      "source": [
        "decode_lsb(image_path)"
      ],
      "metadata": {
        "colab": {
          "base_uri": "https://localhost:8080/"
        },
        "id": "i4cFduzhMGEH",
        "outputId": "8c5fb20c-5379-4f5a-908b-83b0c720f015"
      },
      "execution_count": 6,
      "outputs": [
        {
          "output_type": "stream",
          "name": "stdout",
          "text": [
            "\n",
            "🔍 Checking for Steganography...\n",
            "🚨 Hidden Message Found:\n",
            "\n",
            "📨 \"This is a custom secret message using LSB!\"\n"
          ]
        },
        {
          "output_type": "execute_result",
          "data": {
            "text/plain": [
              "(True, 'This is a custom secret message using LSB!')"
            ]
          },
          "metadata": {},
          "execution_count": 6
        }
      ]
    }
  ]
}