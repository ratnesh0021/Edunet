{
  "nbformat": 4,
  "nbformat_minor": 0,
  "metadata": {
    "colab": {
      "provenance": [],
      "authorship_tag": "ABX9TyOe3vG2JBbJAEkI2PYa6J8W",
      "include_colab_link": true
    },
    "kernelspec": {
      "name": "python3",
      "display_name": "Python 3"
    },
    "language_info": {
      "name": "python"
    }
  },
  "cells": [
    {
      "cell_type": "markdown",
      "metadata": {
        "id": "view-in-github",
        "colab_type": "text"
      },
      "source": [
        "<a href=\"https://colab.research.google.com/github/ratnesh0021/Edunet/blob/main/Steno_hide.ipynb\" target=\"_parent\"><img src=\"https://colab.research.google.com/assets/colab-badge.svg\" alt=\"Open In Colab\"/></a>"
      ]
    },
    {
      "cell_type": "code",
      "execution_count": 14,
      "metadata": {
        "colab": {
          "base_uri": "https://localhost:8080/"
        },
        "id": "-IE3bxTvDi5l",
        "outputId": "e59b8278-5e27-459f-bae0-7b44222fcc87"
      },
      "outputs": [
        {
          "output_type": "stream",
          "name": "stdout",
          "text": [
            "Requirement already satisfied: pillow in /usr/local/lib/python3.11/dist-packages (11.2.1)\n"
          ]
        }
      ],
      "source": [
        "!pip install pillow"
      ]
    },
    {
      "cell_type": "code",
      "source": [
        "from PIL import Image\n",
        "import os\n",
        "image_path = \"/content/Original Image.png\"\n",
        "if not os.path.exists(image_path):\n",
        "    raise FileNotFoundError(f\"❌ The file '{image_path}' was not found. Please upload it via the left sidebar (Files tab).\")"
      ],
      "metadata": {
        "collapsed": true,
        "id": "D45DiMl4DtJR"
      },
      "execution_count": 16,
      "outputs": []
    },
    {
      "cell_type": "code",
      "source": [
        "def text_to_bits(text):\n",
        "    return ''.join(format(ord(c), '08b') for c in text)"
      ],
      "metadata": {
        "id": "Goc5FwygEtTv"
      },
      "execution_count": 17,
      "outputs": []
    },
    {
      "cell_type": "code",
      "source": [
        "def hide_lsb(image_path, output_path, secret_message):\n",
        "    # Load image\n",
        "    image = Image.open(image_path)\n",
        "    if image.mode != 'RGB':\n",
        "        image = image.convert('RGB')\n",
        "\n",
        "    encoded = image.copy()\n",
        "    width, height = image.size\n",
        "    binary_msg = text_to_bits(secret_message) + '1111111111111110'  # EOF delimiter\n",
        "    msg_index = 0\n",
        "\n",
        "    for y in range(height):\n",
        "        for x in range(width):\n",
        "            r, g, b = encoded.getpixel((x, y))\n",
        "\n",
        "            if msg_index < len(binary_msg):\n",
        "                r = (r & ~1) | int(binary_msg[msg_index])\n",
        "                msg_index += 1\n",
        "            if msg_index < len(binary_msg):\n",
        "                g = (g & ~1) | int(binary_msg[msg_index])\n",
        "                msg_index += 1\n",
        "            if msg_index < len(binary_msg):\n",
        "                b = (b & ~1) | int(binary_msg[msg_index])\n",
        "                msg_index += 1\n",
        "\n",
        "            encoded.putpixel((x, y), (r, g, b))\n",
        "\n",
        "            if msg_index >= len(binary_msg):\n",
        "                encoded.save(output_path)\n",
        "                print(f\"✅ Secret message hidden successfully in '{output_path}'\")\n",
        "                return\n",
        "\n",
        "    print(\"❌ Image is too small to hold the full secret message.\")"
      ],
      "metadata": {
        "id": "08Bz0lMKE5xj"
      },
      "execution_count": 18,
      "outputs": []
    },
    {
      "cell_type": "code",
      "source": [
        "secret_message = \"This is a custom secret message using LSB!\"\n",
        "output_path = \"/content/encoded_image.png\""
      ],
      "metadata": {
        "id": "MkvVep-BHqRh"
      },
      "execution_count": 19,
      "outputs": []
    },
    {
      "cell_type": "code",
      "source": [
        "hide_lsb(image_path, output_path, secret_message)"
      ],
      "metadata": {
        "colab": {
          "base_uri": "https://localhost:8080/"
        },
        "id": "-aShSSrNH02J",
        "outputId": "6267f6eb-55e2-4c1c-fc6d-49b35a75fc63"
      },
      "execution_count": 20,
      "outputs": [
        {
          "output_type": "stream",
          "name": "stdout",
          "text": [
            "✅ Secret message hidden successfully in '/content/encoded_image.png'\n"
          ]
        }
      ]
    },
    {
      "cell_type": "code",
      "source": [
        "from google.colab import files\n",
        "files.download(output_path)"
      ],
      "metadata": {
        "colab": {
          "base_uri": "https://localhost:8080/",
          "height": 17
        },
        "id": "05s4DQNoH8kM",
        "outputId": "2ca65bdc-67f3-4b40-d5ca-dd87d21bcbf8"
      },
      "execution_count": 21,
      "outputs": [
        {
          "output_type": "display_data",
          "data": {
            "text/plain": [
              "<IPython.core.display.Javascript object>"
            ],
            "application/javascript": [
              "\n",
              "    async function download(id, filename, size) {\n",
              "      if (!google.colab.kernel.accessAllowed) {\n",
              "        return;\n",
              "      }\n",
              "      const div = document.createElement('div');\n",
              "      const label = document.createElement('label');\n",
              "      label.textContent = `Downloading \"${filename}\": `;\n",
              "      div.appendChild(label);\n",
              "      const progress = document.createElement('progress');\n",
              "      progress.max = size;\n",
              "      div.appendChild(progress);\n",
              "      document.body.appendChild(div);\n",
              "\n",
              "      const buffers = [];\n",
              "      let downloaded = 0;\n",
              "\n",
              "      const channel = await google.colab.kernel.comms.open(id);\n",
              "      // Send a message to notify the kernel that we're ready.\n",
              "      channel.send({})\n",
              "\n",
              "      for await (const message of channel.messages) {\n",
              "        // Send a message to notify the kernel that we're ready.\n",
              "        channel.send({})\n",
              "        if (message.buffers) {\n",
              "          for (const buffer of message.buffers) {\n",
              "            buffers.push(buffer);\n",
              "            downloaded += buffer.byteLength;\n",
              "            progress.value = downloaded;\n",
              "          }\n",
              "        }\n",
              "      }\n",
              "      const blob = new Blob(buffers, {type: 'application/binary'});\n",
              "      const a = document.createElement('a');\n",
              "      a.href = window.URL.createObjectURL(blob);\n",
              "      a.download = filename;\n",
              "      div.appendChild(a);\n",
              "      a.click();\n",
              "      div.remove();\n",
              "    }\n",
              "  "
            ]
          },
          "metadata": {}
        },
        {
          "output_type": "display_data",
          "data": {
            "text/plain": [
              "<IPython.core.display.Javascript object>"
            ],
            "application/javascript": [
              "download(\"download_37f3e6ec-91fa-4389-92ae-789cc2210739\", \"encoded_image.png\", 2867227)"
            ]
          },
          "metadata": {}
        }
      ]
    }
  ]
}